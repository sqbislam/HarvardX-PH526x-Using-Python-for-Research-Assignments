{
 "cells": [
  {
   "cell_type": "markdown",
   "metadata": {},
   "source": [
    "### Meshgrid and Synthetic data generation. KNN Classifier"
   ]
  },
  {
   "cell_type": "code",
   "execution_count": 28,
   "metadata": {},
   "outputs": [],
   "source": [
    "import scipy.stats as ss\n",
    "import numpy as np\n",
    "import matplotlib.pyplot as plt"
   ]
  },
  {
   "cell_type": "code",
   "execution_count": 6,
   "metadata": {},
   "outputs": [
    {
     "data": {
      "text/plain": [
       "array([[ 1.36048115,  1.00210246],\n",
       "       [-0.11272379,  1.34340468],\n",
       "       [ 0.95211094,  0.22206507],\n",
       "       [-0.08141622,  0.64033162],\n",
       "       [-2.12151025,  0.17281124],\n",
       "       [ 2.57188153,  3.14116963],\n",
       "       [ 1.73922144,  1.16609106],\n",
       "       [ 2.55252565,  0.22880475],\n",
       "       [-0.69435715,  0.16087079],\n",
       "       [ 1.61556379,  1.76434597]])"
      ]
     },
     "execution_count": 6,
     "metadata": {},
     "output_type": "execute_result"
    }
   ],
   "source": [
    "np.concatenate((ss.norm((0,1)).rvs((5,2)), ss.norm((1,1)).rvs((5,2))), axis = 0)"
   ]
  },
  {
   "cell_type": "code",
   "execution_count": 24,
   "metadata": {},
   "outputs": [],
   "source": [
    "## Turn this into func\n",
    "n = 20"
   ]
  },
  {
   "cell_type": "code",
   "execution_count": 48,
   "metadata": {},
   "outputs": [],
   "source": [
    "def generate_synth_data(n = 50):\n",
    "    \"\"\"Create and return two sets of points from bivariate dist. Each class containing n number of data.\"\"\"\n",
    "    pointsFromClassA = ss.norm((0,1)).rvs((n,2))\n",
    "    pointsFromClassB = ss.norm((1,1)).rvs((n,2))\n",
    "    points = np.concatenate((pointsFromClassA, pointsFromClassB), axis = 0)\n",
    "    outcomesForClassA = np.repeat(0, n)\n",
    "    outcomesForClassB = np.repeat(1, n)\n",
    "    outcomes = np.concatenate((outcomesForClassA, outcomesForClassB), axis = 0)\n",
    "    return (points, outcomes)"
   ]
  },
  {
   "cell_type": "code",
   "execution_count": 49,
   "metadata": {},
   "outputs": [],
   "source": [
    "points, outcomes = generate_synth_data(n)"
   ]
  },
  {
   "cell_type": "code",
   "execution_count": 50,
   "metadata": {},
   "outputs": [
    {
     "data": {
      "text/plain": [
       "[<matplotlib.lines.Line2D at 0x29964c70dc0>]"
      ]
     },
     "execution_count": 50,
     "metadata": {},
     "output_type": "execute_result"
    },
    {
     "data": {
      "image/png": "[encoded data removed]",
      "text/plain": [
       "<Figure size 432x288 with 1 Axes>"
      ]
     },
     "metadata": {
      "needs_background": "light"
     },
     "output_type": "display_data"
    }
   ],
   "source": [
    "plt.figure()\n",
    "plt.plot(points[:n, 0], points[:n,1], 'ro')\n",
    "plt.plot(points[n:, 0], points[n:, 1], 'bo')"
   ]
  },
  {
   "cell_type": "code",
   "execution_count": null,
   "metadata": {},
   "outputs": [],
   "source": []
  },
  {
   "cell_type": "code",
   "execution_count": 66,
   "metadata": {},
   "outputs": [],
   "source": [
    "def make_prediction_grid(limits, h):\n",
    "    (x_min, x_max, y_min, y_max) = limits\n",
    "    xs = np.arange(x_min, x_max, h)\n",
    "    ys = np.arange(y_min, y_max, h)\n",
    "    xx, yy = np.meshgrid(xs, ys)\n",
    "    \n",
    "    prediction_grid = np.zeros(xx.shape, dtype = int)\n",
    "    for i,x in enumerate(xs):\n",
    "        for j,y in enumerate(ys):\n",
    "            p = np.array([x,y])\n",
    "            prediction_grid[j, i] = p[0]\n",
    "    return prediction_grid\n"
   ]
  },
  {
   "cell_type": "code",
   "execution_count": 67,
   "metadata": {},
   "outputs": [
    {
     "data": {
      "text/plain": [
       "array([[0, 1, 2, 3],\n",
       "       [0, 1, 2, 3],\n",
       "       [0, 1, 2, 3],\n",
       "       [0, 1, 2, 3]])"
      ]
     },
     "execution_count": 67,
     "metadata": {},
     "output_type": "execute_result"
    }
   ],
   "source": [
    "limits = (0, 4, 1, 5)\n",
    "make_prediction_grid(limits ,1)"
   ]
  },
  {
   "cell_type": "code",
   "execution_count": null,
   "metadata": {},
   "outputs": [],
   "source": []
  }
 ],
 "metadata": {
  "kernelspec": {
   "display_name": "Python 3",
   "language": "python",
   "name": "python3"
  },
  "language_info": {
   "codemirror_mode": {
    "name": "ipython",
    "version": 3
   },
   "file_extension": ".py",
   "mimetype": "text/x-python",
   "name": "python",
   "nbconvert_exporter": "python",
   "pygments_lexer": "ipython3",
   "version": "3.9.0"
  }
 },
 "nbformat": 4,
 "nbformat_minor": 4
}
